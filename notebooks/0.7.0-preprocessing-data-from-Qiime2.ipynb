{
 "cells": [
  {
   "cell_type": "markdown",
   "metadata": {},
   "source": [
    "transform qza file to tsv file for further analysis in R"
   ]
  },
  {
   "cell_type": "code",
   "execution_count": 1,
   "metadata": {},
   "outputs": [
    {
     "name": "stdout",
     "output_type": "stream",
     "text": [
      "\u001b[32mExported trimmed-150nts/table-deblur.qza as BIOMV210DirFmt to directory trimmed-150nts/correlation-analysis/table-deblur\u001b[0m\r\n"
     ]
    }
   ],
   "source": [
    "!qiime tools export \\\n",
    "    --input-path trimmed-150nts/table-deblur.qza \\\n",
    "    --output-path trimmed-150nts/correlation-analysis/table-deblur\n",
    "!biom convert -i trimmed-150nts/correlation-analysis/table-deblur/feature-table.biom -o trimmed-150nts/correlation-analysis/feature-table.txt --to-tsv"
   ]
  },
  {
   "cell_type": "code",
   "execution_count": 2,
   "metadata": {},
   "outputs": [
    {
     "name": "stdout",
     "output_type": "stream",
     "text": [
      "\u001b[32mExported trimmed-150nts/taxonomy.qza as TSVTaxonomyDirectoryFormat to directory trimmed-150nts/correlation-analysis/taxonomy\u001b[0m\r\n"
     ]
    }
   ],
   "source": [
    "!qiime tools export \\\n",
    "    --input-path trimmed-150nts/taxonomy.qza \\\n",
    "    --output-path trimmed-150nts/correlation-analysis/taxonomy"
   ]
  }
 ],
 "metadata": {
  "kernelspec": {
   "display_name": "Python 3",
   "language": "python",
   "name": "python3"
  },
  "language_info": {
   "codemirror_mode": {
    "name": "ipython",
    "version": 3
   },
   "file_extension": ".py",
   "mimetype": "text/x-python",
   "name": "python",
   "nbconvert_exporter": "python",
   "pygments_lexer": "ipython3",
   "version": "3.6.7"
  }
 },
 "nbformat": 4,
 "nbformat_minor": 2
}
